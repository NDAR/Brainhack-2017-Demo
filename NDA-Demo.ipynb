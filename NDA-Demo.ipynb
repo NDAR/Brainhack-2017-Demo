{
 "cells": [
  {
   "cell_type": "markdown",
   "metadata": {
    "deletable": true,
    "editable": true,
    "slideshow": {
     "slide_type": "slide"
    }
   },
   "source": [
    "<html>\n",
    "    <div style = \"display: inline-block; width=150px; height=75px;\">\n",
    "            <h2 style=\"text-align: center\">NIMH Data Archive</h2>\n",
    "        </div>\n",
    "    <div>\n",
    "        <div style=\"display: inline-block; width=150px; height=75px;\">\n",
    "            <img src=\"https://ndar.nih.gov/images/ndar/circuit_brain_red.png\" alt=\"NIMH data archive image\"/>            \n",
    "        </div>        \n",
    "\t</div>\n",
    "    <h2>Background</h2>\n",
    "    <ul>\n",
    "    <li>Joint initiative supported by NIMH, NICHD, NINDS, and NIEHS</li>\n",
    "    <li>Contains data from human subjects related to autism (and control subjects) and other NIMH funded research and clinical trials</li>\n",
    "    <li>Data are available to the research community through a not too difficult application process</li>\n",
    "    <li>Begun in late 2006, first data was received in 2008, significant data became available in 2012.</li>\n",
    "    <li>Data submission every 6 months for NIMH awardees</li>\n",
    "    </ul>\n",
    "</html>    "
   ]
  },
  {
   "cell_type": "markdown",
   "metadata": {
    "deletable": true,
    "editable": true,
    "slideshow": {
     "slide_type": "subslide"
    }
   },
   "source": [
    "<html>\n",
    "<h2>New Projects (coming soon)</h2>\n",
    "    <h3>Adolescent Brain Cognitive Development (ABCD) Study</h3>\n",
    "    <ul>\n",
    "    <li>Recruit 10,000 healthy children, ages 9 to 10 across the United States, and follow them into early adulthood.</li>\n",
    "    <li>Use advanced brain imaging to observe brain growth with unprecedented precision.</li>\n",
    "    <li>Examine how biology and environment interact and relate to developmental outcomes such as physical health, mental health, and life achievements including academic success</li>\n",
    "    <li><a href=\"http://abcd-study.org/\">Read more here...</a></li>\n",
    "    </ul>\n",
    "    <h3>Human Connectome Project (HCP)</h3>\n",
    "    <ul>\n",
    "    <li>Target for 1200 Healthy Adults ~ initial release of 900</li>\n",
    "    <li>Common data acquisition methods, 3T and 7T scanners, diffusion imaging and resting-state fMRI</li>\n",
    "    <li><a href=\"http://www.humanconnectome.org/about/project/\">Read more here...</a></li></ul>\n",
    "</html>"
   ]
  },
  {
   "cell_type": "markdown",
   "metadata": {
    "deletable": true,
    "editable": true,
    "slideshow": {
     "slide_type": "subslide"
    }
   },
   "source": [
    "<html>\n",
    "<h2>Harmonization Standards</h2>\n",
    "    <ul>\n",
    "    <li><a href=\"https://ndar.nih.gov/standards.html#guid\">GUID</a></li>\n",
    "    <li><a href=\"https://ndar.nih.gov/standards.html#clinical\">Data Dictionary</a></li>\n",
    "    </ul>\n",
    "</html>"
   ]
  },
  {
   "cell_type": "markdown",
   "metadata": {
    "deletable": true,
    "editable": true,
    "slideshow": {
     "slide_type": "subslide"
    }
   },
   "source": [
    "<html>\n",
    "<div>\n",
    "<h2>Some Numbers</h2>\n",
    "<table style=\"float:left; margin-right:10px;\">\n",
    "<thead>\n",
    "<tr><td>Shared Status</td><td>Data Type</td><td>Subject Count</td></tr>\n",
    "</thead>\n",
    "<tbody>\n",
    "<tr><td>Shared</td><td>Clinical Assessments</td><td>337782</td></tr>\n",
    "<tr><td>Shared</td><td>Neurosignaling Recordings</td><td>8082</td></tr>\n",
    "<tr><td>Shared</td><td>Omics</td><td>37676</td></tr>\n",
    "<tr><td>Private</td><td>Clinical Assessments</td><td>47661</td></tr>\n",
    "<tr><td>Private</td><td>Neurosignaling Recordings</td><td>12716</td></tr>\n",
    "<tr><td>Private</td><td>Omics</td><td>24158</td></tr>\n",
    "</tbody>\n",
    "</table>\n",
    "</div>\n",
    "</html>"
   ]
  },
  {
   "cell_type": "markdown",
   "metadata": {
    "deletable": true,
    "editable": true,
    "slideshow": {
     "slide_type": "slide"
    }
   },
   "source": [
    "<html>\n",
    "<div>\n",
    "    <h3>Available APIs <a href=\"https://data-archive.nimh.nih.gov/API\">https://data-archive.nimh.nih.gov/API</a></h3>\n",
    "    <ul>\n",
    "    <li>Data Dictionary <a href=\"https://ndar.nih.gov/swagger\">https://ndar.nih.gov/api/datadictionary</a></li>\n",
    "    <li>Experiment <a href=\"https://ndar.nih.gov/swagger\">https://ndar.nih.gov/api/experiment</a></li>\n",
    "    <li>Search <a href=\"https://ndar.nih.gov/api/search\">https://ndar.nih.gov/api/search</a></li>\n",
    "    <li>GUID <a href=\"https://ndar.nih.gov/api/guid\">https://ndar.nih.gov/api/guid</a></li>\n",
    "    <li>miNDAR <a href=\"https://stage.nimhda.org/api/mindar\">https://stage.nimhda.org/api/mindar</a></li>\n",
    "    </ul>\n",
    "    \n",
    "    </div>\n",
    " </html>"
   ]
  },
  {
   "cell_type": "markdown",
   "metadata": {
    "deletable": true,
    "editable": true,
    "slideshow": {
     "slide_type": "slide"
    }
   },
   "source": [
    "<html>\n",
    "    <div style = \"display: inline-block; width=150px; height=75px;\">\n",
    "        <h2>Data Dictionary Webservice</h2>\n",
    "        <p>Provides the capability for programmatic interrogation of all available datastructures/measures, by name, type, source, and category.  The service also provides element-level detail.</p>\n",
    "        <p>Additionally, a history of changes can be retreived for both datasturcture and element.</p>\n",
    "    </div>\n",
    "    <p>\n",
    "        <a href=\"https://ndar.nih.gov/swagger\">Swagger User Interface</a>\n",
    "    </p>\n",
    "</html>"
   ]
  },
  {
   "cell_type": "code",
   "execution_count": null,
   "metadata": {
    "collapsed": false,
    "deletable": true,
    "editable": true,
    "slideshow": {
     "slide_type": "subslide"
    }
   },
   "outputs": [],
   "source": [
    "# Progromatically retreive data from the dictionary service\n",
    "\n",
    "import requests\n",
    "import json\n",
    "shortname = input('Enter a Data Structure shortname:')\n",
    "r = requests.get('https://ndar.nih.gov/api/datadictionary/datastructure/{}'\n",
    "                 .format(shortname),\n",
    "                  headers={'Accept':'application/json'})\n",
    "structure = json.loads(r.text)\n",
    "\n",
    "# Get Data Structure change history\n",
    "\n",
    "r = requests.get('https://ndar.nih.gov/api/datadictionary/datastructure/{}/changes'\n",
    "                 .format(shortname),\n",
    "                  headers={'Accept':'application/json'})\n",
    "\n",
    "changes = json.loads(r.text)"
   ]
  },
  {
   "cell_type": "code",
   "execution_count": null,
   "metadata": {
    "collapsed": false,
    "deletable": true,
    "editable": true,
    "slideshow": {
     "slide_type": "subslide"
    }
   },
   "outputs": [],
   "source": [
    "# Show data structure elements that are required, or potentially required (conditional)\n",
    "\n",
    "for element in structure['dataElements']:\n",
    "    if element['required'] in ['Required','Conditional']:\n",
    "        print('elementInfo: {}\\n'.format(element))"
   ]
  },
  {
   "cell_type": "code",
   "execution_count": null,
   "metadata": {
    "collapsed": false,
    "deletable": true,
    "editable": true,
    "slideshow": {
     "slide_type": "subslide"
    }
   },
   "outputs": [],
   "source": [
    "# Grab File elements from the structure\n",
    "\n",
    "for element in structure['dataElements']:\n",
    "    if element['type'] == 'File':\n",
    "        print('elementName: {}'.format(element['name']))"
   ]
  },
  {
   "cell_type": "code",
   "execution_count": null,
   "metadata": {
    "collapsed": false,
    "deletable": true,
    "editable": true,
    "slideshow": {
     "slide_type": "subslide"
    }
   },
   "outputs": [],
   "source": [
    "# Get data element info and changes\n",
    "from IPython.display import display\n",
    "\n",
    "class changeHistoryTable():\n",
    "    \n",
    "    def __init__(self, list):\n",
    "        self.list = list\n",
    "        self.headers = ['id','changeDescription','changedDate','elementName','newValue','oldValue','shortName']\n",
    "        self._repr_html_()\n",
    "    \n",
    "    def _repr_html_(self):\n",
    "\n",
    "        html = [\"<table width=100%>\"]\n",
    "        html.append(\"<thead><tr>\")\n",
    "        for header in self.headers:\n",
    "            html.append(\"<td>{}</td>\".format(header))\n",
    "        html.append(\"</tr></thead><tbody>\")      \n",
    "\n",
    "        for row in self.list:\n",
    "            html.append(\"<tr>\")\n",
    "            for header in self.headers:\n",
    "                html.append(\"<td>{}</td>\".format(row[header]))\n",
    "            html.append(\"</tr>\")\n",
    "        html.append(\"</tbody></table>\")\n",
    "        return ''.join(html)\n",
    "\n",
    "change_list = []\n",
    "        \n",
    "for element in structure['dataElements']:\n",
    "    if element['type'] == 'File':\n",
    "        r = requests.get('https://ndar.nih.gov/api/datadictionary/dataelement/{}'\n",
    "                 .format(element['name']),\n",
    "                  headers={'Accept':'application/json'})\n",
    "        elementInfo = json.loads(r.text)\n",
    "        \n",
    "        r = requests.get('https://ndar.nih.gov/api/datadictionary/dataelement/{}/changes'\n",
    "                .format(element['name']),\n",
    "                headers={'Accept':'application/json'})\n",
    "        changes = json.loads(r.text)\n",
    "        try:\n",
    "            change_list.extend(changes['list'])\n",
    "        except KeyError:\n",
    "            print('No changes for elementName {}'.format(element['name']))\n",
    "\n",
    "display(changeHistoryTable(change_list))"
   ]
  },
  {
   "cell_type": "markdown",
   "metadata": {
    "collapsed": true,
    "deletable": true,
    "editable": true,
    "slideshow": {
     "slide_type": "slide"
    }
   },
   "source": [
    "<html>\n",
    "    <div style = \"display: inline-block; width=150px; height=75px;\">\n",
    "        <h2>Search Webservice</h2>\n",
    "        <p>Provides the capability for programmatic search across all NDA sites (NDAR, pediatricMRI, ABCD, Clinical Trials, Humman Connectome Project, etc.) enabling users to identify projects with data of potential interest.</p>\n",
    "        <p>Search content includes experimental information, project descriptions, investigators, grant numbers, page-content, and all data elements that make up the 1000s of measures defined in the data dictionary.</p>\n",
    "    </div>\n",
    "    \n",
    "    <p>\n",
    "        <a href=\"https://ndar.nih.gov/api/search\">Swagger User Interface</a>\n",
    "    </p>\n",
    "</html>"
   ]
  },
  {
   "cell_type": "markdown",
   "metadata": {
    "deletable": true,
    "editable": true,
    "slideshow": {
     "slide_type": "subslide"
    }
   },
   "source": [
    "<html>\n",
    "<div>\n",
    "<h2>Full Search</h2>\n",
    "<p>Search resource that allows for querying a word or phrase and identifying matching content, studies, collections, experiments, and data elements.</p>\n",
    "</div>\n",
    "<h2>Data Element Search</h2>\n",
    "<p>Search resource that allows for specifying attributes of a data element and querying the entire dictionary for matching elements.</p>\n",
    "<div>\n",
    "<table style=\"float:left; margin-right:10px;\">\n",
    "<thead><tr><td>Attribute</td><td>Type</td></tr></thead>\n",
    "<tbody>\n",
    "  <tr><td>name</td><td>string</td></tr>\n",
    "  <tr><td>description</td><td>string</td></tr>\n",
    "  <tr><td>valueRanges</td><td>string</td></tr>\n",
    "  <tr><td>notes</td><td>string</td></tr>\n",
    "  <tr><td>type</td><td>string</td></tr>\n",
    "  <tr><td>allQuery</td><td>string</td></tr>\n",
    "</tbody>\n",
    "</table>\n",
    "</div>\n",
    "</html>"
   ]
  },
  {
   "cell_type": "code",
   "execution_count": null,
   "metadata": {
    "collapsed": false,
    "deletable": true,
    "editable": true,
    "slideshow": {
     "slide_type": "subslide"
    }
   },
   "outputs": [],
   "source": [
    "# Data Element Search\n",
    "\n",
    "description = input(\"Enter a description to query:\")\n",
    "query = {'description': description}\n",
    "r = requests.post(\"https://stage.nimhda.org/api/search/nda_sw_removal/dataElementSearch?size=20\", \n",
    "                  data=json.dumps(query),\n",
    "                  headers={'content-type':'application/json'})\n",
    "element_results = json.loads(r.text)\n",
    "for result in element_results['dataElements']: \n",
    "    print(\"score:{}\\nname:{}\\ndescriptoin:{}\\n\".format(result['score'], result['name'], result['description']))"
   ]
  },
  {
   "cell_type": "code",
   "execution_count": null,
   "metadata": {
    "collapsed": false,
    "deletable": true,
    "editable": true,
    "scrolled": true,
    "slideshow": {
     "slide_type": "subslide"
    }
   },
   "outputs": [],
   "source": [
    "# Here is a programmatic example searching by collection\n",
    "import requests\n",
    "import json\n",
    "\n",
    "\n",
    "class collectionLink():\n",
    "\n",
    "    def __init__(self, title, id):\n",
    "            self.id = id\n",
    "            self.title = title\n",
    "            self._repr_html_()\n",
    "\n",
    "    def _repr_html_(self):\n",
    "        collection_link = 'https://ndar.nih.gov/edit_collection.html?id={}'.format(self.id)\n",
    "        html = ['<a href=\"{}\">{}</a>'.format(collection_link, self.title)]\n",
    "        return ''.join(html)\n",
    "\n",
    "    \n",
    "query = input(\"Enter your query phrase:\")\n",
    "r = requests.post(\"https://ndar.nih.gov/api/search/nda_sw_removal/collection/full\", query)\n",
    "collections = json.loads(r.text)\n",
    "print(\"\\n\")\n",
    "for result in collections['collection']['results']:\n",
    "    display(collectionLink(result['title'],result['id']))"
   ]
  },
  {
   "cell_type": "markdown",
   "metadata": {
    "deletable": true,
    "editable": true,
    "slideshow": {
     "slide_type": "slide"
    }
   },
   "source": [
    "<html>\n",
    "    <div style = \"display: inline-block; width=150px; height=75px;\">\n",
    "        <h2>GUID Webservice</h2>\n",
    "        <p>Provides the capability to programmatically access all submitted accross proejcts data for a specifc subject.</p>\n",
    "        <p>This service requires authentication and will only return data that is accessible to your user, based on your privleges and permisisons on the data.</p>\n",
    "    </div>\n",
    "    <p>\n",
    "    <a href=\"https://ndar.nih.gov/api/guid\">Swagger User Interface</a>\n",
    "    </p>\n",
    "</html>"
   ]
  },
  {
   "cell_type": "code",
   "execution_count": null,
   "metadata": {
    "collapsed": false,
    "deletable": true,
    "editable": true,
    "slideshow": {
     "slide_type": "subslide"
    }
   },
   "outputs": [],
   "source": [
    "from getpass import getpass\n",
    "\n",
    "username = input(\"What is your NDA username:\")\n",
    "password = getpass(\"What is your NDA password:\")\n",
    "guid = input(\"What GUID would you like to access data from:\")\n",
    "r = requests.get(\"https://ndar.nih.gov/api/guid/{}\".format(guid), \n",
    "                 auth=requests.auth.HTTPBasicAuth(username, password),\n",
    "                 headers={'Accept':'application/json'})\n",
    "print(r.text)"
   ]
  },
  {
   "cell_type": "code",
   "execution_count": null,
   "metadata": {
    "collapsed": false,
    "deletable": true,
    "editable": true,
    "slideshow": {
     "slide_type": "subslide"
    }
   },
   "outputs": [],
   "source": [
    "from getpass import getpass\n",
    "\n",
    "username = input(\"What is your NDA username:\")\n",
    "password = getpass(\"What is your NDA password:\")\n",
    "guid = input(\"What GUID would you like to access data from:\")\n",
    "r = requests.get(\"https://ndar.nih.gov/api/guid/{}/data?short_name=image03\".format(guid), \n",
    "                 auth=requests.auth.HTTPBasicAuth(username, password),\n",
    "                 headers={'Accept': 'application/json'})\n",
    "guid_data = json.loads(r.text)\n",
    "#print(guid_data)"
   ]
  },
  {
   "cell_type": "code",
   "execution_count": null,
   "metadata": {
    "collapsed": false,
    "deletable": true,
    "editable": true,
    "slideshow": {
     "slide_type": "subslide"
    }
   },
   "outputs": [],
   "source": [
    "# Extract experiment IDs from response\n",
    "\n",
    "experiments = []\n",
    "ages = []\n",
    "for age in guid_data['age']:\n",
    "    age_value = age['value']\n",
    "    for row in age['dataStructureRow']:\n",
    "        for element in row['dataElement']:\n",
    "            if element['name']=='EXPERIMENT_ID':\n",
    "                if element['value'] not in experiments:\n",
    "                    experiments.append(element['value'])\n",
    "\n",
    "for experiment in experiments:\n",
    "    print('experiment: {}'.format(experiment))"
   ]
  },
  {
   "cell_type": "code",
   "execution_count": null,
   "metadata": {
    "collapsed": false,
    "deletable": true,
    "editable": true,
    "slideshow": {
     "slide_type": "subslide"
    }
   },
   "outputs": [],
   "source": [
    "# In previous 2 slides, have identified some fMRI, EEG, or Eye Tracking data; show how to retreive experimental details.\n",
    "\n",
    "query = input(\"Enter your experiment ID:\")\n",
    "r = requests.get(\"https://ndar.nih.gov/api/experiment/{}\".format(query),\n",
    "                 headers={'Accept':'application/json'})\n",
    "\n",
    "experiment = json.loads(r.text)\n",
    "print(experiment)"
   ]
  },
  {
   "cell_type": "code",
   "execution_count": null,
   "metadata": {
    "collapsed": false,
    "deletable": true,
    "editable": true,
    "slideshow": {
     "slide_type": "subslide"
    }
   },
   "outputs": [],
   "source": [
    "# Pull out image files from response\n",
    "image_files = []\n",
    "ages = []\n",
    "for age in guid_data['age']:\n",
    "    age_value = age['value']\n",
    "    for row in age['dataStructureRow']:\n",
    "        for link in row['links']['link']:\n",
    "            if link['rel']=='data_file':\n",
    "                image_files.append(link['href'])\n",
    "                ages.append(age_value)\n",
    "for i,image in enumerate(image_files):\n",
    "    print(\"age:{}, url:{}\".format(ages[i],image))"
   ]
  },
  {
   "cell_type": "code",
   "execution_count": null,
   "metadata": {
    "collapsed": false,
    "deletable": true,
    "editable": true,
    "slideshow": {
     "slide_type": "slide"
    }
   },
   "outputs": [],
   "source": [
    "# Generate FederatedToken\n",
    "# https://github.com/NDAR/nda_aws_token_generator\n",
    "from getpass import getpass\n",
    "\n",
    "url = 'https://ndar.nih.gov/DataManager/dataManager'\n",
    "username = input('Enter your NIMH Data Archives username:')\n",
    "password = getpass('Enter your NIMH Data Archives password:')\n",
    "\n",
    "from nda_aws_token_generator import *\n",
    "generator = NDATokenGenerator(url)\n",
    "token = generator.generate_token(username, password)"
   ]
  },
  {
   "cell_type": "code",
   "execution_count": null,
   "metadata": {
    "scrolled": true,
    "slideshow": {
     "slide_type": "subslide"
    }
   },
   "outputs": [],
   "source": [
    "# Pull image out of S3\n",
    "\n",
    "file = input(\"Enter S3 URL:\")\n",
    "#s3://NDAR_Central_2/submission_11013/002000001590/scanVisit__0020__0002/MRI__0001/B0_phase1/Native/Original__0001/DICOM.tar.gz\n",
    "\n",
    "import boto3\n",
    "from boto3.s3.transfer import S3Transfer\n",
    "import botocore\n",
    "from urllib.parse import urlparse\n",
    "import os\n",
    "\n",
    "bucket = urlparse(file).netloc\n",
    "name = urlparse(file).path\n",
    "key = name[1:]\n",
    "l = key.split('/')\n",
    "l = l[:1]\n",
    "l = '/'.join(l)\n",
    "location = os.path.join(os.path.expanduser('~'), 'AWS_downloads', l )\n",
    "if not os.path.isdir(location):\n",
    "    os.makedirs(location)\n",
    "    \n",
    "file_name = key.split('/')[-1]\n",
    "file_name = os.path.join(location,file_name)\n",
    "\n",
    "s3 = boto3.session.Session(aws_access_key_id=token.access_key,\n",
    "                           aws_secret_access_key=token.secret_key,\n",
    "                           aws_session_token=token.session)\n",
    "s3_client = s3.client('s3')\n",
    "s3transfer = S3Transfer(s3_client)\n",
    "\n",
    "\n",
    "try:\n",
    "    print('downloading S3 file %s' % file)\n",
    "    s3transfer.download_file(bucket, key, file_name)\n",
    "except botocore.exceptions.ClientError as e:\n",
    "    print('S3 error: %s' % e)\n",
    "    \n"
   ]
  },
  {
   "cell_type": "markdown",
   "metadata": {
    "collapsed": false,
    "deletable": true,
    "editable": true,
    "slideshow": {
     "slide_type": "subslide"
    }
   },
   "source": [
    "<html>\n",
    "<p>The downloaded file can now be viewed and analyzed.  <b>It should be noted that the boto package provides functionality to read the object into memory as a 'string', which could be passed to other functions, and boto also supports streaming the content.</b></p>\n",
    "<a href=\"https://brainbrowser.cbrain.mcgill.ca/volume-viewer\">Brain Browser Viewer</a>\n",
    "</html>"
   ]
  },
  {
   "cell_type": "markdown",
   "metadata": {
    "collapsed": true,
    "deletable": true,
    "editable": true,
    "slideshow": {
     "slide_type": "slide"
    }
   },
   "source": [
    "<html>\n",
    "    <div style = \"display: inline-block; width=150px; height=75px;\">\n",
    "        <h2>miNDAR Webservice</h2>\n",
    "        <p>A miNDAR is short for mini-NDAR, which is a remote database (Oracle) that you have control over and can push data to. The webservice currently provides the capability to POST data throu RESTful web service to a remote miNDAR. This service requires authentication to ensure you are the miNDAR owner.</p>\n",
    "    </div>\n",
    "    <p>\n",
    "    <a href=\"https://stage.nimhda.org/api/mindar\">Swagger User Interface</a>\n",
    "    </p>\n",
    "</html>"
   ]
  },
  {
   "cell_type": "code",
   "execution_count": null,
   "metadata": {
    "collapsed": false,
    "deletable": true,
    "editable": true,
    "slideshow": {
     "slide_type": "subslide"
    }
   },
   "outputs": [],
   "source": [
    "# Demo miNDAR import (stage)\n",
    "\n",
    "from getpass import getpass\n",
    "\n",
    "#username = input(\"What is your NDA username:\")\n",
    "#password = getpass(\"What is your NDA password:\")\n",
    "\n",
    "file = open('miNDAR POST/test_data_submission_genomics_sample03_5.xml', 'r')\n",
    "data = file.read()\n",
    "\n",
    "r = requests.post(\"https://stage.nimhda.org/api/mindar/import\", \n",
    "                 auth=requests.auth.HTTPBasicAuth(username, password),\n",
    "                 headers={'content-type':'application/xml'},\n",
    "                 data = data)\n",
    "print(r.text)\n",
    "\n"
   ]
  }
 ],
 "metadata": {
  "celltoolbar": "Slideshow",
  "kernelspec": {
   "display_name": "Python 3",
   "language": "python",
   "name": "python3"
  },
  "language_info": {
   "codemirror_mode": {
    "name": "ipython",
    "version": 3
   },
   "file_extension": ".py",
   "mimetype": "text/x-python",
   "name": "python",
   "nbconvert_exporter": "python",
   "pygments_lexer": "ipython3",
   "version": "3.4.1"
  }
 },
 "nbformat": 4,
 "nbformat_minor": 0
}
